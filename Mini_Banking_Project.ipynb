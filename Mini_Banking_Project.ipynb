{
  "cells": [
    {
      "cell_type": "markdown",
      "metadata": {
        "id": "view-in-github",
        "colab_type": "text"
      },
      "source": [
        "<a href=\"https://colab.research.google.com/github/mathavan5275/Mini-Banking-Project/blob/main/Mini_Banking_Project.ipynb\" target=\"_parent\"><img src=\"https://colab.research.google.com/assets/colab-badge.svg\" alt=\"Open In Colab\"/></a>"
      ]
    },
    {
      "cell_type": "markdown",
      "id": "07c3068d-c966-4c5c-9a37-a636a9e6ed13",
      "metadata": {
        "id": "07c3068d-c966-4c5c-9a37-a636a9e6ed13"
      },
      "source": [
        "# Mini Project 1-Python Module\n",
        "### In this project, we have to design a software for Banking System using Python which manages all the basic functions like creating a new account, view account holders record, withdraws and deposit amount, balance inquiry, and so on\n",
        "\n",
        "# Project Description:\n",
        "### Talking about the features of this software,\n",
        "### 1. A user can create an account by providing an initial amount to deposit.\n",
        "### 2. Then the user can also deposit and withdraw money just by providing the user account name ,pin number and entering the amount.\n",
        "### 3. Also, the user can check for the customers and their balance. This simple console-based system provides the simplest management of bank account and transaction.\n"
      ]
    },
    {
      "cell_type": "code",
      "execution_count": null,
      "id": "86befed6-d9a4-4f3f-be92-133caf6c5091",
      "metadata": {
        "id": "86befed6-d9a4-4f3f-be92-133caf6c5091",
        "outputId": "5d454fba-9a74-42fc-8125-c1f68c877b2b"
      },
      "outputs": [
        {
          "name": "stdout",
          "output_type": "stream",
          "text": [
            "$$$$   Welcome to RCB Bank   $$$$\n",
            "$$$$-------------------------$$$$\n",
            "$$$$  1. Open a new account  $$$$\n",
            "$$$$  2. Withdraw Money      $$$$\n",
            "$$$$  3. Deposit Money       $$$$\n",
            "$$$$  4. Check Balance       $$$$\n",
            "$$$$  5. Show Customers      $$$$\n",
            "$$$$  6. Exit/Quit           $$$$\n",
            "$$$$$$$$$$$$$$$$$$$$$$$$$$$$$$$$$\n",
            "\n"
          ]
        },
        {
          "name": "stdin",
          "output_type": "stream",
          "text": [
            "Choose Your Operation: 1\n"
          ]
        },
        {
          "name": "stdout",
          "output_type": "stream",
          "text": [
            "\n",
            " >>> You’re all set to Save & Grow <<< \n",
            "\n"
          ]
        },
        {
          "name": "stdin",
          "output_type": "stream",
          "text": [
            "Enter New Account Name: srm\n",
            "Choose your 4-digit Pin: 3232\n",
            "Enter your opening deposit amount: 3000\n"
          ]
        },
        {
          "name": "stdout",
          "output_type": "stream",
          "text": [
            "\n",
            " Hey! srm Your Money Got a New Home🏦 \n",
            "\n",
            "$$$$   Welcome to RCB Bank   $$$$\n",
            "$$$$-------------------------$$$$\n",
            "$$$$  1. Open a new account  $$$$\n",
            "$$$$  2. Withdraw Money      $$$$\n",
            "$$$$  3. Deposit Money       $$$$\n",
            "$$$$  4. Check Balance       $$$$\n",
            "$$$$  5. Show Customers      $$$$\n",
            "$$$$  6. Exit/Quit           $$$$\n",
            "$$$$$$$$$$$$$$$$$$$$$$$$$$$$$$$$$\n",
            "\n"
          ]
        },
        {
          "name": "stdin",
          "output_type": "stream",
          "text": [
            "Choose Your Operation: 4\n"
          ]
        },
        {
          "name": "stdout",
          "output_type": "stream",
          "text": [
            "\n",
            "^^^^ Let’s see what’s in the Wallet Today! ^^^^\n"
          ]
        },
        {
          "name": "stdin",
          "output_type": "stream",
          "text": [
            "\n",
            "Enter your name: srm\n",
            "Enter you pin: 3232\n"
          ]
        },
        {
          "name": "stdout",
          "output_type": "stream",
          "text": [
            "\n",
            ">>>> Checked the numbers.It’s looking Low Fund!💰 <<<< \n",
            "\n",
            "Account Holder:srm\n",
            "Available Balance: 3000.0 \n",
            "\n",
            "$$$$   Welcome to RCB Bank   $$$$\n",
            "$$$$-------------------------$$$$\n",
            "$$$$  1. Open a new account  $$$$\n",
            "$$$$  2. Withdraw Money      $$$$\n",
            "$$$$  3. Deposit Money       $$$$\n",
            "$$$$  4. Check Balance       $$$$\n",
            "$$$$  5. Show Customers      $$$$\n",
            "$$$$  6. Exit/Quit           $$$$\n",
            "$$$$$$$$$$$$$$$$$$$$$$$$$$$$$$$$$\n",
            "\n"
          ]
        },
        {
          "name": "stdin",
          "output_type": "stream",
          "text": [
            "Choose Your Operation: 6\n"
          ]
        },
        {
          "name": "stdout",
          "output_type": "stream",
          "text": [
            "\n",
            " > > We’re Grateful for you! Thanks for choosing us 📈 < < \n",
            "\n"
          ]
        }
      ],
      "source": [
        "user_data={}\n",
        "\n",
        "def new_acc():\n",
        "    print('\\n >>> You’re all set to Save & Grow <<< \\n')\n",
        "    name=input('Enter New Account Name:')\n",
        "    pin=int(input('Choose your 4-digit Pin:'))\n",
        "    if len(str(pin)) > 4 or len(str(pin)) < 4:\n",
        "        print('Please Enter Valid 4-digit Pin \\n')\n",
        "        return\n",
        "    else:\n",
        "        pass\n",
        "    deposit_amt=float(input('Enter your opening deposit amount:'))\n",
        "    user_data[name]={'pin':pin,'Balance':deposit_amt}\n",
        "    #user_data.update({'Name':name,'Pin':pin,'Amount':deposit_amt})\n",
        "    #user_data.update({'Pin':pin})\n",
        "    #user_data.update({'Amount':deposit_amt})\n",
        "\n",
        "\n",
        "    print(f'\\n Hey! {name} Your Money Got a New Home🏦 \\n')\n",
        "\n",
        "def withdraw():\n",
        "    print('\\n^^^^ Withdrawal mode: ON💸 ^^^^ \\n')\n",
        "    name=input(\"Enter Account Name:\")\n",
        "    pin=int(input('Enter your Pin:'))\n",
        "\n",
        "    if name in user_data and user_data[name]['pin'] == pin:\n",
        "        withdrawal_amt=float(input('Enter Your withdrawal amount:'))\n",
        "        if withdrawal_amt <= user_data[name]['Balance']:\n",
        "            user_data[name]['Balance']-=withdrawal_amt\n",
        "            print(' \\n >>>>> Cash out loud!💸 <<<<< \\n')\n",
        "            print(f'After Withdrawal Balance Rs.{user_data[name]['Balance']} \\n')\n",
        "        else:\n",
        "            print('Insufficient fund \\n')\n",
        "    else:\n",
        "        print('Invalid name or incorrect pin \\n')\n",
        "\n",
        "\n",
        "\n",
        "def deposit():\n",
        "    print('\\n^^^^ New deposit, New energy ^^^^ \\n')\n",
        "    name=input(\"Enter your Name:\")\n",
        "    pin=int(input('Enter your Pin:'))\n",
        "\n",
        "    if name in user_data and user_data[name]['pin'] == pin:\n",
        "        dep_amt=float(input('Enter your deposit amount: \\n'))\n",
        "        user_data[name]['Balance'] += dep_amt\n",
        "        print('>>>> Deposited. Secured. Leveled up💰 <<<< \\n')\n",
        "        print(f'After Deposited Balance Rs.{user_data[name]['Balance']} \\n')\n",
        "    else:\n",
        "        print('Invalid name or incorrect pin \\n')\n",
        "\n",
        "\n",
        "def check_balance():\n",
        "    print('\\n^^^^ Let’s see what’s in the Wallet Today! ^^^^')\n",
        "    name=input(\"\\nEnter your name:\")\n",
        "    pin=int(input('Enter you pin:'))\n",
        "\n",
        "    if name in user_data and user_data[name]['pin'] == pin:\n",
        "        if user_data[name]['Balance'] >= 5001:\n",
        "            print('\\n>>>> Checked the numbers.It’s looking good!💰 <<<< \\n')\n",
        "        else:\n",
        "            print('\\n>>>> Checked the numbers.It’s looking Low Fund!💰 <<<< \\n')\n",
        "        print(f'Account Holder:{name}')\n",
        "        print(f'Available Balance: {user_data[name]['Balance']} \\n')\n",
        "    else:\n",
        "        print('Invalid name or incorrect pin \\n')\n",
        "\n",
        "\n",
        "def show_customers():\n",
        "    print('\\n ^^^ Customer list loaded.Ready to Roll! ^^^ \\n')\n",
        "    for name,info in user_data.items():\n",
        "        print(f'Name:{name},Balance:{info['Balance']} \\n')\n",
        "\n",
        "\n",
        "def main_menu():\n",
        "    while True:\n",
        "        print(\"$$$$   Welcome to RCB Bank   $$$$\")\n",
        "        print(\"$$$$-------------------------$$$$\")\n",
        "        print(\"$$$$  1. Open a new account  $$$$\")\n",
        "        print(\"$$$$  2. Withdraw Money      $$$$\")\n",
        "        print(\"$$$$  3. Deposit Money       $$$$\")\n",
        "        print(\"$$$$  4. Check Balance       $$$$\")\n",
        "        print(\"$$$$  5. Show Customers      $$$$\")\n",
        "        print(\"$$$$  6. Exit/Quit           $$$$\")\n",
        "        print('$$$$$$$$$$$$$$$$$$$$$$$$$$$$$$$$$\\n')\n",
        "\n",
        "        choice=int(input('Choose Your Operation:'))\n",
        "\n",
        "        if choice == 1:\n",
        "            new_acc()\n",
        "        elif choice ==2:\n",
        "            withdraw()\n",
        "        elif choice ==3:\n",
        "            deposit()\n",
        "        elif choice ==4:\n",
        "            check_balance()\n",
        "        elif choice ==5:\n",
        "            show_customers()\n",
        "        elif choice ==6:\n",
        "            print('\\n > > We’re Grateful for you! Thanks for choosing us 📈 < < \\n')\n",
        "            break\n",
        "\n",
        "\n",
        "main_menu()"
      ]
    },
    {
      "cell_type": "code",
      "execution_count": null,
      "id": "1d41e557-6437-4b37-8e3c-642cf347d1e6",
      "metadata": {
        "id": "1d41e557-6437-4b37-8e3c-642cf347d1e6"
      },
      "outputs": [],
      "source": []
    }
  ],
  "metadata": {
    "kernelspec": {
      "display_name": "Python [conda env:base] *",
      "language": "python",
      "name": "conda-base-py"
    },
    "language_info": {
      "codemirror_mode": {
        "name": "ipython",
        "version": 3
      },
      "file_extension": ".py",
      "mimetype": "text/x-python",
      "name": "python",
      "nbconvert_exporter": "python",
      "pygments_lexer": "ipython3",
      "version": "3.12.7"
    },
    "colab": {
      "provenance": [],
      "include_colab_link": true
    }
  },
  "nbformat": 4,
  "nbformat_minor": 5
}